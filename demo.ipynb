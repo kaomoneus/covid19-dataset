from ipywidgets import interact

from plot import run_plot


@interact
def run_demo(base=3):
    run_plot(base)
